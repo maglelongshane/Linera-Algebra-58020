{
  "nbformat": 4,
  "nbformat_minor": 0,
  "metadata": {
    "colab": {
      "name": "Matrix inverse and transpose.ipynb",
      "provenance": [],
      "authorship_tag": "ABX9TyN5Etpobb+ERtZc/jOsjem8",
      "include_colab_link": true
    },
    "kernelspec": {
      "name": "python3",
      "display_name": "Python 3"
    },
    "language_info": {
      "name": "python"
    }
  },
  "cells": [
    {
      "cell_type": "markdown",
      "metadata": {
        "id": "view-in-github",
        "colab_type": "text"
      },
      "source": [
        "<a href=\"https://colab.research.google.com/github/maglelongshane/Linera-Algebra-58020/blob/main/Matrix_inverse_and_transpose.ipynb\" target=\"_parent\"><img src=\"https://colab.research.google.com/assets/colab-badge.svg\" alt=\"Open In Colab\"/></a>"
      ]
    },
    {
      "cell_type": "markdown",
      "metadata": {
        "id": "iiCYxj26nhxu"
      },
      "source": [
        "3X3 MATRIX inverse and its transpose"
      ]
    },
    {
      "cell_type": "code",
      "metadata": {
        "colab": {
          "base_uri": "https://localhost:8080/"
        },
        "id": "W9y0ay4onmRR",
        "outputId": "9f02c987-c6d3-4b2e-9ee6-055bded09e00"
      },
      "source": [
        "import numpy as np\n",
        "A=np.array([[6,1,1],[4,-2,5],[2,8,7]])\n",
        "B=(np.linalg.inv(A))\n",
        "print(B)"
      ],
      "execution_count": 6,
      "outputs": [
        {
          "output_type": "stream",
          "name": "stdout",
          "text": [
            "[[ 0.17647059 -0.00326797 -0.02287582]\n",
            " [ 0.05882353 -0.13071895  0.08496732]\n",
            " [-0.11764706  0.1503268   0.05228758]]\n"
          ]
        }
      ]
    },
    {
      "cell_type": "code",
      "metadata": {
        "colab": {
          "base_uri": "https://localhost:8080/"
        },
        "id": "uFtBxX8QixU_",
        "outputId": "f26a472b-f871-4f58-cd10-5ac7a04c689c"
      },
      "source": [
        "\n",
        "A=np.array([[6,1,1],[4,-2,5],[2,8,7]])\n",
        "print(A)\n",
        "B=np.transpose(A)\n",
        "print(B)"
      ],
      "execution_count": 1,
      "outputs": [
        {
          "output_type": "stream",
          "name": "stdout",
          "text": [
            "[[ 6  1  1]\n",
            " [ 4 -2  5]\n",
            " [ 2  8  7]]\n",
            "[[ 6  4  2]\n",
            " [ 1 -2  8]\n",
            " [ 1  5  7]]\n"
          ]
        }
      ]
    },
    {
      "cell_type": "markdown",
      "metadata": {
        "id": "y5Au9L46p5qe"
      },
      "source": [
        "4X4 MATRIX inverse and its transpose"
      ]
    },
    {
      "cell_type": "code",
      "metadata": {
        "colab": {
          "base_uri": "https://localhost:8080/"
        },
        "id": "lvwlNwjJnbyL",
        "outputId": "cb72aa7d-5089-405c-f225-a00c55304574"
      },
      "source": [
        "A = np.array([[1, 2, 3, 4], [23, 42, 14, 25],[21, 3, 34, 8],[20, 43, 12, 18]])\n",
        "  \n",
        "B = np.linalg.inv(A)\n",
        "print(B)"
      ],
      "execution_count": 15,
      "outputs": [
        {
          "output_type": "stream",
          "name": "stdout",
          "text": [
            "[[-0.45753564  0.17539327  0.02163584 -0.15154311]\n",
            " [ 0.0869124  -0.08534391 -0.00894958  0.10319694]\n",
            " [ 0.24214605 -0.12206486  0.0207132   0.10651843]\n",
            " [ 0.13931817  0.09037228 -0.01646907 -0.09360151]]\n"
          ]
        }
      ]
    },
    {
      "cell_type": "code",
      "metadata": {
        "colab": {
          "base_uri": "https://localhost:8080/"
        },
        "id": "TzvOfFpBrbGz",
        "outputId": "65ed7903-fdf0-4d1e-9cd4-a05a3e133446"
      },
      "source": [
        "A=np.array([[1, 2, 3, 4], [23, 42, 14, 25],[21, 3, 34, 8],[20, 43, 12, 18]])\n",
        "print(A)\n",
        "B=np.transpose(A)\n",
        "print(B)"
      ],
      "execution_count": 16,
      "outputs": [
        {
          "output_type": "stream",
          "name": "stdout",
          "text": [
            "[[ 1  2  3  4]\n",
            " [23 42 14 25]\n",
            " [21  3 34  8]\n",
            " [20 43 12 18]]\n",
            "[[ 1 23 21 20]\n",
            " [ 2 42  3 43]\n",
            " [ 3 14 34 12]\n",
            " [ 4 25  8 18]]\n"
          ]
        }
      ]
    }
  ]
}