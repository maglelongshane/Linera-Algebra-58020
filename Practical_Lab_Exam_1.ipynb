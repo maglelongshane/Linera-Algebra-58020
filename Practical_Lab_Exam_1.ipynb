{
  "nbformat": 4,
  "nbformat_minor": 0,
  "metadata": {
    "colab": {
      "name": "Practical Lab Exam 1.ipynb",
      "provenance": [],
      "authorship_tag": "ABX9TyMO1/0OYbrsDv0FUMzHzR7v",
      "include_colab_link": true
    },
    "kernelspec": {
      "name": "python3",
      "display_name": "Python 3"
    },
    "language_info": {
      "name": "python"
    }
  },
  "cells": [
    {
      "cell_type": "markdown",
      "metadata": {
        "id": "view-in-github",
        "colab_type": "text"
      },
      "source": [
        "<a href=\"https://colab.research.google.com/github/maglelongshane/Linera-Algebra-58020/blob/main/Practical_Lab_Exam_1.ipynb\" target=\"_parent\"><img src=\"https://colab.research.google.com/assets/colab-badge.svg\" alt=\"Open In Colab\"/></a>"
      ]
    },
    {
      "cell_type": "markdown",
      "metadata": {
        "id": "LL8MBIOkHXUm"
      },
      "source": [
        "Problem 1. A"
      ]
    },
    {
      "cell_type": "code",
      "metadata": {
        "colab": {
          "base_uri": "https://localhost:8080/"
        },
        "id": "2JQhfx0mDdaK",
        "outputId": "f6500631-be16-4fec-da8d-39843f8716bc"
      },
      "source": [
        "import numpy as np\n",
        "\n",
        "W = np.array ([[1,-3],[2,-2],[3,1]])\n",
        "print(\"Vector W is\", W)"
      ],
      "execution_count": 14,
      "outputs": [
        {
          "output_type": "stream",
          "name": "stdout",
          "text": [
            "Vector W is [[ 1 -3]\n",
            " [ 2 -2]\n",
            " [ 3  1]]\n"
          ]
        }
      ]
    },
    {
      "cell_type": "code",
      "metadata": {
        "colab": {
          "base_uri": "https://localhost:8080/"
        },
        "id": "4HTlVI2fLa3E",
        "outputId": "04bdaadc-4d74-4dfb-903e-470d3bc6764a"
      },
      "source": [
        "import numpy as np\n",
        "\n",
        "Y = np.array ([[1,2,0],[0,-1,2]])\n",
        "print(\"Vector Y is\", Y)"
      ],
      "execution_count": 20,
      "outputs": [
        {
          "output_type": "stream",
          "name": "stdout",
          "text": [
            "Vector Y is [[ 1  2  0]\n",
            " [ 0 -1  2]]\n"
          ]
        }
      ]
    },
    {
      "cell_type": "code",
      "metadata": {
        "colab": {
          "base_uri": "https://localhost:8080/"
        },
        "id": "2x02yuROLqAm",
        "outputId": "4e5be5ef-b296-4f52-a8cb-780c8c5d969c"
      },
      "source": [
        "print(np.dot(W, Y))"
      ],
      "execution_count": 21,
      "outputs": [
        {
          "output_type": "stream",
          "name": "stdout",
          "text": [
            "[[ 1  5 -6]\n",
            " [ 2  6 -4]\n",
            " [ 3  5  2]]\n"
          ]
        }
      ]
    },
    {
      "cell_type": "code",
      "metadata": {
        "id": "LJQwEvF-LTbi"
      },
      "source": [
        ""
      ],
      "execution_count": 14,
      "outputs": []
    },
    {
      "cell_type": "markdown",
      "metadata": {
        "id": "ewT57eLkHXZS"
      },
      "source": [
        "B"
      ]
    },
    {
      "cell_type": "code",
      "metadata": {
        "colab": {
          "base_uri": "https://localhost:8080/"
        },
        "id": "JMwDT2PPIsBw",
        "outputId": "6edbbb5a-8df6-4729-a0f2-b7a8937ed3f2"
      },
      "source": [
        "import numpy as np\n",
        "Z = np.array ([[0,1],[2,3]])\n",
        "print(\"Vector Z is\", Z)"
      ],
      "execution_count": 11,
      "outputs": [
        {
          "output_type": "stream",
          "name": "stdout",
          "text": [
            "Vector Z is [[0 1]\n",
            " [2 3]]\n"
          ]
        }
      ]
    },
    {
      "cell_type": "code",
      "metadata": {
        "colab": {
          "base_uri": "https://localhost:8080/"
        },
        "id": "e3Q2aG3mK9PH",
        "outputId": "b346c6e6-e7cf-4ec2-8d75-3ae12826dba9"
      },
      "source": [
        "R = np.add(Z,Z)\n",
        "R"
      ],
      "execution_count": 12,
      "outputs": [
        {
          "output_type": "execute_result",
          "data": {
            "text/plain": [
              "array([[0, 2],\n",
              "       [4, 6]])"
            ]
          },
          "metadata": {},
          "execution_count": 12
        }
      ]
    },
    {
      "cell_type": "markdown",
      "metadata": {
        "id": "5Pb_pFU4KCkG"
      },
      "source": [
        "C"
      ]
    },
    {
      "cell_type": "code",
      "metadata": {
        "colab": {
          "base_uri": "https://localhost:8080/"
        },
        "id": "DVIJaUhxKD-E",
        "outputId": "b02bf970-fb9e-4baa-bb4a-37fa8fa13569"
      },
      "source": [
        "import numpy as np\n",
        "\n",
        "X = np.array ([[3,2,1],[-1,2,3],[2,-1,1]])\n",
        "print(\"Vector X is\", X)\n",
        "print()\n",
        "print(3*X)"
      ],
      "execution_count": 22,
      "outputs": [
        {
          "output_type": "stream",
          "name": "stdout",
          "text": [
            "Vector X is [[ 3  2  1]\n",
            " [-1  2  3]\n",
            " [ 2 -1  1]]\n",
            "\n",
            "[[ 9  6  3]\n",
            " [-3  6  9]\n",
            " [ 6 -3  3]]\n"
          ]
        }
      ]
    },
    {
      "cell_type": "markdown",
      "metadata": {
        "id": "jHX6mDZBL_XU"
      },
      "source": [
        "Problem 2. A"
      ]
    },
    {
      "cell_type": "code",
      "metadata": {
        "colab": {
          "base_uri": "https://localhost:8080/"
        },
        "id": "-FKZauCaOhIk",
        "outputId": "d4d9d062-d200-4821-edb4-e7a47b03abf0"
      },
      "source": [
        "import numpy as np\n",
        "\n",
        "W = np.array ([[1,-3],[2,-2],[3,1]])\n",
        "print(\"Vector W is\", W)"
      ],
      "execution_count": 23,
      "outputs": [
        {
          "output_type": "stream",
          "name": "stdout",
          "text": [
            "Vector W is [[ 1 -3]\n",
            " [ 2 -2]\n",
            " [ 3  1]]\n"
          ]
        }
      ]
    },
    {
      "cell_type": "code",
      "metadata": {
        "colab": {
          "base_uri": "https://localhost:8080/"
        },
        "id": "3tJMS2WrPUkT",
        "outputId": "a31464c7-eded-4500-8abd-e1f9b01ea6c8"
      },
      "source": [
        "import numpy as np\n",
        "\n",
        "Y = np.array ([[1,2,0],[0,-1,2]])\n",
        "print(\"Vector Y is\", Y)"
      ],
      "execution_count": 24,
      "outputs": [
        {
          "output_type": "stream",
          "name": "stdout",
          "text": [
            "Vector Y is [[ 1  2  0]\n",
            " [ 0 -1  2]]\n"
          ]
        }
      ]
    },
    {
      "cell_type": "code",
      "metadata": {
        "colab": {
          "base_uri": "https://localhost:8080/"
        },
        "id": "AQLwV2oYP5uJ",
        "outputId": "a71843f7-81f1-4a80-8705-a01f02530d9f"
      },
      "source": [
        "print(np.dot(Y, W)^2)"
      ],
      "execution_count": 37,
      "outputs": [
        {
          "output_type": "stream",
          "name": "stdout",
          "text": [
            "[[ 7 -5]\n",
            " [ 6  6]]\n"
          ]
        }
      ]
    },
    {
      "cell_type": "markdown",
      "metadata": {
        "id": "whFEi8McS0bl"
      },
      "source": [
        "B"
      ]
    },
    {
      "cell_type": "code",
      "metadata": {
        "id": "IPqpCl4sS2CR"
      },
      "source": [
        "import numpy as np\n",
        "\n",
        "W = np.array ([[1,-3],[2,-2],[3,1]])\n",
        "print(\"Vector W is\", W)"
      ],
      "execution_count": null,
      "outputs": []
    },
    {
      "cell_type": "code",
      "metadata": {
        "id": "OBsGOyyoTM_r"
      },
      "source": [
        "import numpy as np\n",
        "\n",
        "Y = np.array ([[1,2,0],[0,-1,2]])\n",
        "print(\"Vector Y is\", Y)"
      ],
      "execution_count": null,
      "outputs": []
    },
    {
      "cell_type": "code",
      "metadata": {
        "colab": {
          "base_uri": "https://localhost:8080/"
        },
        "id": "HPATIDKbTulM",
        "outputId": "ae575173-42de-4922-f61b-b4043daf1bd3"
      },
      "source": [
        "import numpy as np\n",
        "\n",
        "X = np.array ([[3,2,1],[-1,2,3],[2,-1,1]])\n",
        "print(\"Vector X is\", X)"
      ],
      "execution_count": 33,
      "outputs": [
        {
          "output_type": "stream",
          "name": "stdout",
          "text": [
            "Vector X is [[ 3  2  1]\n",
            " [-1  2  3]\n",
            " [ 2 -1  1]]\n"
          ]
        }
      ]
    },
    {
      "cell_type": "code",
      "metadata": {
        "colab": {
          "base_uri": "https://localhost:8080/"
        },
        "id": "MoolKUl5TR40",
        "outputId": "a93a0542-dea8-422b-ee0b-39f33f0b4157"
      },
      "source": [
        "R = np.dot(W,Y)\n",
        "R"
      ],
      "execution_count": 32,
      "outputs": [
        {
          "output_type": "execute_result",
          "data": {
            "text/plain": [
              "array([[ 1,  5, -6],\n",
              "       [ 2,  6, -4],\n",
              "       [ 3,  5,  2]])"
            ]
          },
          "metadata": {},
          "execution_count": 32
        }
      ]
    },
    {
      "cell_type": "code",
      "metadata": {
        "colab": {
          "base_uri": "https://localhost:8080/"
        },
        "id": "ukefbD5VTYXA",
        "outputId": "264f4855-94b8-4dee-cd27-03f744160cfc"
      },
      "source": [
        "print(np.subtract(R, X))"
      ],
      "execution_count": 34,
      "outputs": [
        {
          "output_type": "stream",
          "name": "stdout",
          "text": [
            "[[-2  3 -7]\n",
            " [ 3  4 -7]\n",
            " [ 1  6  1]]\n"
          ]
        }
      ]
    },
    {
      "cell_type": "markdown",
      "metadata": {
        "id": "xa8SvbgiVbx5"
      },
      "source": [
        "C"
      ]
    },
    {
      "cell_type": "code",
      "metadata": {
        "id": "IzpG2ESGVFmD"
      },
      "source": [
        "import numpy as np\n",
        "\n",
        "W = np.array ([[1,-3],[2,-2],[3,1]])\n",
        "print(\"Vector W is\", W)"
      ],
      "execution_count": null,
      "outputs": []
    },
    {
      "cell_type": "code",
      "metadata": {
        "id": "dasXQlXXVdu8"
      },
      "source": [
        "import numpy as np\n",
        "\n",
        "Y = np.array ([[1,2,0],[0,-1,2]])\n",
        "print(\"Vector Y is\", Y)"
      ],
      "execution_count": null,
      "outputs": []
    },
    {
      "cell_type": "code",
      "metadata": {
        "colab": {
          "base_uri": "https://localhost:8080/"
        },
        "id": "KwSPfPFYVgqe",
        "outputId": "96960998-e04d-4c8f-d40f-0a24d4b28527"
      },
      "source": [
        "import numpy as np\n",
        "\n",
        "Z = np.array ([[0,1],[2,3]])\n",
        "print(\"Vector Z is\", Z)"
      ],
      "execution_count": 38,
      "outputs": [
        {
          "output_type": "stream",
          "name": "stdout",
          "text": [
            "Vector Z is [[0 1]\n",
            " [2 3]]\n"
          ]
        }
      ]
    },
    {
      "cell_type": "code",
      "metadata": {
        "colab": {
          "base_uri": "https://localhost:8080/"
        },
        "id": "0MjE-_MXWAmr",
        "outputId": "751de93f-4496-4361-8c9e-3a0b63e52595"
      },
      "source": [
        "print(\"(YW - Z^2)\")\n",
        "print(np.dot(Y,W)-Z^2)"
      ],
      "execution_count": 46,
      "outputs": [
        {
          "output_type": "stream",
          "name": "stdout",
          "text": [
            "(YW - Z^2)\n",
            "[[ 7 -6]\n",
            " [ 0  3]]\n"
          ]
        }
      ]
    }
  ]
}