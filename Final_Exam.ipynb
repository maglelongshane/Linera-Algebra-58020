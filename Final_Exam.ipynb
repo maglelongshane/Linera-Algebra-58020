{
  "nbformat": 4,
  "nbformat_minor": 0,
  "metadata": {
    "colab": {
      "name": "Final Exam.ipynb",
      "provenance": [],
      "authorship_tag": "ABX9TyOO+hBhgvYGpJ+y+wgwh0xv",
      "include_colab_link": true
    },
    "kernelspec": {
      "name": "python3",
      "display_name": "Python 3"
    },
    "language_info": {
      "name": "python"
    }
  },
  "cells": [
    {
      "cell_type": "markdown",
      "metadata": {
        "id": "view-in-github",
        "colab_type": "text"
      },
      "source": [
        "<a href=\"https://colab.research.google.com/github/maglelongshane/Linera-Algebra-58020/blob/main/Final_Exam.ipynb\" target=\"_parent\"><img src=\"https://colab.research.google.com/assets/colab-badge.svg\" alt=\"Open In Colab\"/></a>"
      ]
    },
    {
      "cell_type": "code",
      "source": [
        "import numpy as np"
      ],
      "metadata": {
        "id": "NaHl_tbfLUVB"
      },
      "execution_count": null,
      "outputs": []
    },
    {
      "cell_type": "markdown",
      "source": [
        "Problem 1"
      ],
      "metadata": {
        "id": "IrD0J9skI8c9"
      }
    },
    {
      "cell_type": "code",
      "source": [
        "#inputs the given\n",
        "A=np.array([[1,1,1],[1,0,4],[0,0,5]])\n",
        "print(f'Matrix A;\\n {A}')\n",
        "#prints the Matrix A\n",
        "print()\n",
        "#inputs the given\n",
        "B=np.array([[89],[89],[95]])\n",
        "#prints the Matrix B\n",
        "print(f'Matrix B;\\n {A}')\n",
        "#gets the inverse\n",
        "C=np.linalg.inv(A).dot(B)\n",
        "print(f'Inverse of Matrix A;\\n {C}')"
      ],
      "metadata": {
        "colab": {
          "base_uri": "https://localhost:8080/"
        },
        "id": "uXLKDN1vJATp",
        "outputId": "64391092-0fa8-4bd0-9cdd-99e2f08a6328"
      },
      "execution_count": 15,
      "outputs": [
        {
          "output_type": "stream",
          "name": "stdout",
          "text": [
            "Matrix A;\n",
            " [[1 1 1]\n",
            " [1 0 4]\n",
            " [0 0 5]]\n",
            "\n",
            "Matrix B;\n",
            " [[1 1 1]\n",
            " [1 0 4]\n",
            " [0 0 5]]\n",
            "Inverse of Matrix A;\n",
            " [[13.]\n",
            " [57.]\n",
            " [19.]]\n"
          ]
        }
      ]
    },
    {
      "cell_type": "markdown",
      "source": [
        "Problem 2"
      ],
      "metadata": {
        "id": "1s799nIkJAl7"
      }
    },
    {
      "cell_type": "code",
      "source": [
        "import numpy as np\n",
        "#inputs the given\n",
        "A=np.array([[3,-1,1],[9,-3,3],[-12,4,-4]])\n",
        "B=np.array([[5],[15],[-20]])\n",
        "#gets the inverse of A\n",
        "C=np.linalg.pinv(A)\n",
        "#prints the inverse of A\n",
        "print(C)\n",
        "#multiply C with B\n",
        "D=np.dot(C,B)\n",
        "print(D)\n",
        "#then lastly multiply A with D\n",
        "E=np.dot(A,D)"
      ],
      "metadata": {
        "colab": {
          "base_uri": "https://localhost:8080/"
        },
        "id": "1hDwFN2sJC7O",
        "outputId": "9da5494b-4fe3-4627-99e6-4277a4fc159d"
      },
      "execution_count": 14,
      "outputs": [
        {
          "output_type": "stream",
          "name": "stdout",
          "text": [
            "[[ 0.01048951  0.03146853 -0.04195804]\n",
            " [-0.0034965  -0.01048951  0.01398601]\n",
            " [ 0.0034965   0.01048951 -0.01398601]]\n",
            "[[ 1.36363636]\n",
            " [-0.45454545]\n",
            " [ 0.45454545]]\n"
          ]
        }
      ]
    },
    {
      "cell_type": "markdown",
      "source": [
        "Problem 3"
      ],
      "metadata": {
        "id": "XavOkAQoJHSn"
      }
    },
    {
      "cell_type": "code",
      "source": [
        "import numpy as np\n",
        "from numpy.linalg import eig\n",
        "#inputs the given\n",
        "A = np.array([[8,5,-6],[-12,-9,12],[-3,-3,5]])\n",
        "#prints the egeinvalues and eigenvectors\n",
        "print(A,\"\\n\")\n",
        "w,v = np.linalg.eig(A) \n",
        "print(\"The eigenvalue/s is/are:\\n\",w.round(),\"\\n\")\n",
        "print(\"The eigenvector/s is/are:\\n\",v.round())"
      ],
      "metadata": {
        "colab": {
          "base_uri": "https://localhost:8080/"
        },
        "id": "RH6INyeYJKXL",
        "outputId": "a91a70a6-f5ad-4587-b298-81e4979a1dc5"
      },
      "execution_count": 9,
      "outputs": [
        {
          "output_type": "stream",
          "name": "stdout",
          "text": [
            "[[  8   5  -6]\n",
            " [-12  -9  12]\n",
            " [ -3  -3   5]] \n",
            "\n",
            "The eigenvalue/s is/are:\n",
            " [-1.  3.  2.] \n",
            "\n",
            "The eigenvector/s is/are:\n",
            " [[ 0. -1.  1.]\n",
            " [-1.  1.  0.]\n",
            " [-0. -0.  1.]]\n"
          ]
        }
      ]
    }
  ]
}