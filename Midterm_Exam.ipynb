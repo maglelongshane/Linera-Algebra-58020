{
  "nbformat": 4,
  "nbformat_minor": 0,
  "metadata": {
    "colab": {
      "name": "Midterm Exam.ipynb",
      "provenance": [],
      "authorship_tag": "ABX9TyM950X/MBZf6a7OCZR7LZdj",
      "include_colab_link": true
    },
    "kernelspec": {
      "name": "python3",
      "display_name": "Python 3"
    },
    "language_info": {
      "name": "python"
    }
  },
  "cells": [
    {
      "cell_type": "markdown",
      "metadata": {
        "id": "view-in-github",
        "colab_type": "text"
      },
      "source": [
        "<a href=\"https://colab.research.google.com/github/maglelongshane/Linera-Algebra-58020/blob/main/Midterm_Exam.ipynb\" target=\"_parent\"><img src=\"https://colab.research.google.com/assets/colab-badge.svg\" alt=\"Open In Colab\"/></a>"
      ]
    },
    {
      "cell_type": "markdown",
      "metadata": {
        "id": "WsDoAcyt6ZWi"
      },
      "source": [
        "Question 1"
      ]
    },
    {
      "cell_type": "code",
      "metadata": {
        "colab": {
          "base_uri": "https://localhost:8080/"
        },
        "id": "arXbaUjI5GUv",
        "outputId": "1628a423-1f6c-4a23-a55d-220529fc63b4"
      },
      "source": [
        "import numpy as np\n",
        "#made a square matrix with the lenght of 5\n",
        "A=np.array([[1,2,3,4,5],[6,7,8,9,10],[10,9,8,7,6],[5,4,3,2,1],[1,3,5,7,9]])\n",
        "#prints the 5 lenght matrix\n",
        "print(A)"
      ],
      "execution_count": 1,
      "outputs": [
        {
          "output_type": "stream",
          "name": "stdout",
          "text": [
            "[[ 1  2  3  4  5]\n",
            " [ 6  7  8  9 10]\n",
            " [10  9  8  7  6]\n",
            " [ 5  4  3  2  1]\n",
            " [ 1  3  5  7  9]]\n"
          ]
        }
      ]
    },
    {
      "cell_type": "markdown",
      "metadata": {
        "id": "Jp8EcyIj8MN8"
      },
      "source": [
        "Question 2"
      ]
    },
    {
      "cell_type": "code",
      "metadata": {
        "colab": {
          "base_uri": "https://localhost:8080/"
        },
        "id": "DMumw2Hb8OIY",
        "outputId": "0089dbaf-8fe6-4275-c7ec-1519762be824"
      },
      "source": [
        "#made a square matrix which the elements below the principal diagonal are zero\n",
        "A = np.array([[1,1,1,1],[0,1,1,1],[0,0,1,1],[0,0,0,1]])\n",
        "#prints the matrix\n",
        "print(A)"
      ],
      "execution_count": 13,
      "outputs": [
        {
          "output_type": "stream",
          "name": "stdout",
          "text": [
            "[[1 1 1 1]\n",
            " [0 1 1 1]\n",
            " [0 0 1 1]\n",
            " [0 0 0 1]]\n"
          ]
        }
      ]
    },
    {
      "cell_type": "markdown",
      "metadata": {
        "id": "NDQNoO9r8OY4"
      },
      "source": [
        "Question 3"
      ]
    },
    {
      "cell_type": "code",
      "metadata": {
        "colab": {
          "base_uri": "https://localhost:8080/"
        },
        "id": "65tvYJq18QI1",
        "outputId": "ae5d665f-6c96-44b1-b4b9-77f32921e34e"
      },
      "source": [
        "#made a symmetrical matrix\n",
        "A=np.array([[2,4,6],[4,8,10],[6,10,2]])\n",
        "#prints the symmetrical matrix\n",
        "print(A)"
      ],
      "execution_count": 14,
      "outputs": [
        {
          "output_type": "stream",
          "name": "stdout",
          "text": [
            "[[ 2  4  6]\n",
            " [ 4  8 10]\n",
            " [ 6 10  2]]\n"
          ]
        }
      ]
    },
    {
      "cell_type": "markdown",
      "metadata": {
        "id": "ZT_v0c_T8QcS"
      },
      "source": [
        "Question 4"
      ]
    },
    {
      "cell_type": "code",
      "metadata": {
        "colab": {
          "base_uri": "https://localhost:8080/"
        },
        "id": "Vf53M1xu8Y2d",
        "outputId": "df0fd9d0-3755-481e-c1d4-11cf8273c53e"
      },
      "source": [
        "#inputted the given matrix\n",
        "A=np.array([[1,2,3],[2,3,3],[3,4,-2]])\n",
        "#Gets the inverse of the given Matrix which is declared as A\n",
        "B=(np.linalg.inv(A))\n",
        "#prints the inverse of the matrix\n",
        "print(B)"
      ],
      "execution_count": 2,
      "outputs": [
        {
          "output_type": "stream",
          "name": "stdout",
          "text": [
            "[[-3.6  3.2 -0.6]\n",
            " [ 2.6 -2.2  0.6]\n",
            " [-0.2  0.4 -0.2]]\n"
          ]
        }
      ]
    },
    {
      "cell_type": "markdown",
      "metadata": {
        "id": "s3gpKxBJ86bo"
      },
      "source": [
        "Question 5"
      ]
    },
    {
      "cell_type": "code",
      "metadata": {
        "colab": {
          "base_uri": "https://localhost:8080/"
        },
        "id": "K2Lolje385aJ",
        "outputId": "d37d20ba-b928-4db2-920e-bf794bd868e5"
      },
      "source": [
        "#inputs the given matrix\n",
        "A=np.array([[1,2,3],[2,3,3],[3,4,-2]])\n",
        "#prints the given matrix\n",
        "print(A)\n",
        "#gets the determinant of the given matrix\n",
        "print(np.linalg.det(A))\n",
        "#gets the round off of it\n",
        "print(round(np.linalg.det(A)))"
      ],
      "execution_count": 15,
      "outputs": [
        {
          "output_type": "stream",
          "name": "stdout",
          "text": [
            "[[ 1  2  3]\n",
            " [ 2  3  3]\n",
            " [ 3  4 -2]]\n",
            "5.000000000000001\n",
            "5\n"
          ]
        }
      ]
    },
    {
      "cell_type": "markdown",
      "metadata": {
        "id": "RY7ILyr3_LCZ"
      },
      "source": [
        "Question 6"
      ]
    },
    {
      "cell_type": "code",
      "metadata": {
        "colab": {
          "base_uri": "https://localhost:8080/"
        },
        "id": "-uwknw5-_1Kg",
        "outputId": "c5c6b4f4-2e9d-402f-edc3-21c74c38ae70"
      },
      "source": [
        "#inputs the given\n",
        "A = np.array([[5,4,1],[10,9,4],[10,13,15]])\n",
        "B = np.array( [[3.4],[8.8],[19.2]])\n",
        "#gets the root of given\n",
        "C = np.linalg.inv(A) @ B\n",
        "#prints the root\n",
        "print(C)"
      ],
      "execution_count": 20,
      "outputs": [
        {
          "output_type": "stream",
          "name": "stdout",
          "text": [
            "[[0.2]\n",
            " [0.4]\n",
            " [0.8]]\n"
          ]
        }
      ]
    }
  ]
}