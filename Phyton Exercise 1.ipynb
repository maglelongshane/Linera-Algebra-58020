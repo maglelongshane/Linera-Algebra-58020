{
  "nbformat": 4,
  "nbformat_minor": 0,
  "metadata": {
    "colab": {
      "name": "Untitled0.ipynb",
      "provenance": [],
      "authorship_tag": "ABX9TyPoewxGvhxYSjjgx8wAiGT/",
      "include_colab_link": true
    },
    "kernelspec": {
      "name": "python3",
      "display_name": "Python 3"
    },
    "language_info": {
      "name": "python"
    }
  },
  "cells": [
    {
      "cell_type": "markdown",
      "metadata": {
        "id": "view-in-github",
        "colab_type": "text"
      },
      "source": [
        "<a href=\"https://colab.research.google.com/github/maglelongshane/Linera-Algebra-58020/blob/main/Phyton%20Exercise%201.ipynb\" target=\"_parent\"><img src=\"https://colab.research.google.com/assets/colab-badge.svg\" alt=\"Open In Colab\"/></a>"
      ]
    },
    {
      "cell_type": "code",
      "metadata": {
        "colab": {
          "base_uri": "https://localhost:8080/"
        },
        "id": "9ju6NM6tU8qy",
        "outputId": "c5d95cbf-d7ee-4de6-fae3-0d2f232c89d3"
      },
      "source": [
        "import numpy as np\n",
        "\n",
        "a = np.array ([[-5,0],[4,1]])\n",
        "b = np.array ([[6,-3],[2,3]])\n",
        "print(a+b)"
      ],
      "execution_count": 2,
      "outputs": [
        {
          "output_type": "stream",
          "name": "stdout",
          "text": [
            "[[ 1 -3]\n",
            " [ 6  4]]\n"
          ]
        }
      ]
    },
    {
      "cell_type": "code",
      "metadata": {
        "colab": {
          "base_uri": "https://localhost:8080/"
        },
        "id": "2KyOAtQEU-kl",
        "outputId": "ac946590-fea8-4706-85a8-9314c1d8e562"
      },
      "source": [
        "import numpy as np\n",
        "\n",
        "a = np.array ([[-5,0],[4,1]])\n",
        "b = np.array ([[6,-3],[2,3]])\n",
        "print(a-b)"
      ],
      "execution_count": 3,
      "outputs": [
        {
          "output_type": "stream",
          "name": "stdout",
          "text": [
            "[[-11   3]\n",
            " [  2  -2]]\n"
          ]
        }
      ]
    },
    {
      "cell_type": "code",
      "metadata": {
        "colab": {
          "base_uri": "https://localhost:8080/"
        },
        "id": "7Q94jptcWKbZ",
        "outputId": "184599d5-5eeb-4429-dba9-740dcf7f1717"
      },
      "source": [
        "import numpy as np\n",
        "\n",
        "a = np.array ([[-5,0],[4,1]])\n",
        "b = np.array ([[6,-3],[2,3]])\n",
        "print(b-b)"
      ],
      "execution_count": 4,
      "outputs": [
        {
          "output_type": "stream",
          "name": "stdout",
          "text": [
            "[[0 0]\n",
            " [0 0]]\n"
          ]
        }
      ]
    },
    {
      "cell_type": "code",
      "metadata": {
        "id": "yCzAcsuAYgDy"
      },
      "source": [
        ""
      ],
      "execution_count": null,
      "outputs": []
    }
  ]
}